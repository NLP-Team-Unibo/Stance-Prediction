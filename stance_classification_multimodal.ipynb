{
 "cells": [
  {
   "cell_type": "code",
   "execution_count": 1,
   "metadata": {},
   "outputs": [],
   "source": [
    "%load_ext autoreload\n",
    "%autoreload 2\n",
    "import torchtext\n",
    "from torch.utils.data import DataLoader, random_split\n",
    "import matplotlib.pyplot as plt\n",
    "import transformers\n",
    "from transformers import DistilBertTokenizer\n",
    "from torchinfo import summary\n",
    "from ibm_dataset import IBMDebater\n",
    "import utils\n",
    "from train_text import train_loop\n",
    "from models.text_model import TextModel\n",
    "from models.audio_model import AudioModel\n",
    "from models.multimodal_model import MultimodalModel\n",
    "from transformers import DistilBertTokenizer\n",
    "import torch\n",
    "torch.cuda.empty_cache()\n",
    "import numpy as np\n",
    "import torchaudio\n",
    "from train_multimodal import train_loop\n",
    "transformers.logging.set_verbosity_error()"
   ]
  },
  {
   "cell_type": "code",
   "execution_count": 2,
   "metadata": {},
   "outputs": [],
   "source": [
    "data_path = 'data/ibm_debater/full'\n",
    "text_transform = torchtext.transforms.ToTensor()\n",
    "tokenizer = DistilBertTokenizer.from_pretrained('distilbert-base-uncased')\n",
    "\n",
    "data = IBMDebater(data_path, 'train', tokenizer=tokenizer, max_audio_len=5, text_transform=text_transform)\n",
    "train_len = int(len(data)*0.7)\n",
    "data_train, data_val = random_split(data, [train_len, len(data) - train_len])\n",
    "\n",
    "small_data_dim = 0.2\n",
    "rnd_idx = np.random.choice(np.array([i for i in range(1, len(data))]), size=int(len(data)*small_data_dim))\n",
    "small_data = torch.utils.data.Subset(data, rnd_idx)\n",
    "train_len = int(len(small_data)*0.7) \n",
    "small_data_train, small_data_val = random_split(small_data, [train_len, len(small_data) - train_len])"
   ]
  },
  {
   "cell_type": "code",
   "execution_count": 3,
   "metadata": {},
   "outputs": [],
   "source": [
    "batch_size = 8\n",
    "loader_train = DataLoader(data_train,\n",
    "                    batch_size=batch_size,\n",
    "                    shuffle=True,\n",
    "                    collate_fn=utils.batch_generator_multimodal,\n",
    "                    drop_last=True)\n",
    "loader_val = DataLoader(data_val,\n",
    "                    batch_size=batch_size,\n",
    "                    shuffle=False,\n",
    "                    collate_fn=utils.batch_generator_multimodal,\n",
    "                    drop_last=True)"
   ]
  },
  {
   "cell_type": "code",
   "execution_count": 4,
   "metadata": {},
   "outputs": [
    {
     "data": {
      "text/plain": [
       "=====================================================================================\n",
       "Layer (type:depth-idx)                                       Param #\n",
       "=====================================================================================\n",
       "MultimodalModel                                              --\n",
       "├─TextModel: 1-1                                             --\n",
       "│    └─DistilBertModel: 2-1                                  --\n",
       "│    │    └─Embeddings: 3-1                                  (23,835,648)\n",
       "│    │    └─Transformer: 3-2                                 42,527,232\n",
       "│    └─Linear: 2-2                                           590,592\n",
       "│    └─ReLU: 2-3                                             --\n",
       "├─AudioModel: 1-2                                            --\n",
       "│    └─FeatureExtractor: 2-4                                 --\n",
       "│    │    └─ModuleList: 3-3                                  (4,200,448)\n",
       "│    └─Linear: 2-5                                           8,000\n",
       "│    └─LSTM: 2-6                                             1,576,960\n",
       "│    └─Linear: 2-7                                           262,656\n",
       "│    └─ReLU: 2-8                                             --\n",
       "├─Linear: 1-3                                                1,281\n",
       "=====================================================================================\n",
       "Total params: 73,002,817\n",
       "Trainable params: 16,615,233\n",
       "Non-trainable params: 56,387,584\n",
       "====================================================================================="
      ]
     },
     "execution_count": 4,
     "metadata": {},
     "output_type": "execute_result"
    }
   ],
   "source": [
    "model = MultimodalModel(chunk_size=5, audio_hidden_state_dim=32, device='cuda')\n",
    "summary(model)"
   ]
  },
  {
   "cell_type": "code",
   "execution_count": 5,
   "metadata": {},
   "outputs": [
    {
     "name": "stderr",
     "output_type": "stream",
     "text": [
      "100%|██████████| 186/186 [11:47<00:00,  3.81s/it]\n"
     ]
    },
    {
     "name": "stdout",
     "output_type": "stream",
     "text": [
      "train_loss: 0.6357030578518427 train_accuracy: 0.594758064516129\tval_loss: 0.23303105030208826 val_accuracy: 0.9375\n"
     ]
    },
    {
     "name": "stderr",
     "output_type": "stream",
     "text": [
      "100%|██████████| 186/186 [11:53<00:00,  3.84s/it]\n"
     ]
    },
    {
     "name": "stdout",
     "output_type": "stream",
     "text": [
      "train_loss: 0.1518140535761592 train_accuracy: 0.948252688172043\tval_loss: 0.1301706244936213 val_accuracy: 0.9609375\n"
     ]
    },
    {
     "name": "stderr",
     "output_type": "stream",
     "text": [
      "100%|██████████| 186/186 [11:22<00:00,  3.67s/it]\n"
     ]
    },
    {
     "name": "stdout",
     "output_type": "stream",
     "text": [
      "train_loss: 0.10413675051262622 train_accuracy: 0.9663978494623656\tval_loss: 0.11475377284223214 val_accuracy: 0.965625\n"
     ]
    },
    {
     "name": "stderr",
     "output_type": "stream",
     "text": [
      "100%|██████████| 186/186 [11:00<00:00,  3.55s/it]\n"
     ]
    },
    {
     "name": "stdout",
     "output_type": "stream",
     "text": [
      "train_loss: 0.07978954175937801 train_accuracy: 0.9778225806451613\tval_loss: 0.11580827509169467 val_accuracy: 0.9625\n"
     ]
    },
    {
     "name": "stderr",
     "output_type": "stream",
     "text": [
      "100%|██████████| 186/186 [11:17<00:00,  3.64s/it]\n"
     ]
    },
    {
     "name": "stdout",
     "output_type": "stream",
     "text": [
      "train_loss: 0.07805390325024404 train_accuracy: 0.9717741935483871\tval_loss: 0.1139128506416455 val_accuracy: 0.96875\n"
     ]
    },
    {
     "name": "stderr",
     "output_type": "stream",
     "text": [
      "100%|██████████| 186/186 [11:01<00:00,  3.56s/it]\n"
     ]
    },
    {
     "name": "stdout",
     "output_type": "stream",
     "text": [
      "train_loss: 0.05043791734328073 train_accuracy: 0.9845430107526881\tval_loss: 0.12072023550281301 val_accuracy: 0.96875\n"
     ]
    },
    {
     "name": "stderr",
     "output_type": "stream",
     "text": [
      "100%|██████████| 186/186 [10:57<00:00,  3.54s/it]\n"
     ]
    },
    {
     "name": "stdout",
     "output_type": "stream",
     "text": [
      "train_loss: 0.03689688009958494 train_accuracy: 0.9872311827956989\tval_loss: 0.12722821427159942 val_accuracy: 0.9625\n"
     ]
    },
    {
     "name": "stderr",
     "output_type": "stream",
     "text": [
      "100%|██████████| 186/186 [11:13<00:00,  3.62s/it]\n"
     ]
    },
    {
     "name": "stdout",
     "output_type": "stream",
     "text": [
      "train_loss: 0.0378370397950783 train_accuracy: 0.9899193548387096\tval_loss: 0.12102368611376732 val_accuracy: 0.9609375\n"
     ]
    },
    {
     "name": "stderr",
     "output_type": "stream",
     "text": [
      "100%|██████████| 186/186 [10:56<00:00,  3.53s/it]\n"
     ]
    },
    {
     "name": "stdout",
     "output_type": "stream",
     "text": [
      "train_loss: 0.02817545052409993 train_accuracy: 0.991263440860215\tval_loss: 0.10647446470829891 val_accuracy: 0.9703125\n"
     ]
    },
    {
     "name": "stderr",
     "output_type": "stream",
     "text": [
      "100%|██████████| 186/186 [10:54<00:00,  3.52s/it]\n"
     ]
    },
    {
     "name": "stdout",
     "output_type": "stream",
     "text": [
      "train_loss: 0.015971869431493643 train_accuracy: 0.9952956989247311\tval_loss: 0.13557864781287207 val_accuracy: 0.9734375\n"
     ]
    }
   ],
   "source": [
    "train_loop(model, loader_train=loader_train, loader_val=loader_val, epochs=10, device='cuda')"
   ]
  }
 ],
 "metadata": {
  "interpreter": {
   "hash": "163f9789a5a304d7da8b497e35078abf9819c9a8bd180034b67bc521774fa763"
  },
  "kernelspec": {
   "display_name": "Python 3.8.10 ('env': venv)",
   "language": "python",
   "name": "python3"
  },
  "language_info": {
   "codemirror_mode": {
    "name": "ipython",
    "version": 3
   },
   "file_extension": ".py",
   "mimetype": "text/x-python",
   "name": "python",
   "nbconvert_exporter": "python",
   "pygments_lexer": "ipython3",
   "version": "3.8.10"
  },
  "orig_nbformat": 4
 },
 "nbformat": 4,
 "nbformat_minor": 2
}
