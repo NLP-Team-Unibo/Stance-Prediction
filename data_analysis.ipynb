{
 "cells": [
  {
   "cell_type": "code",
   "execution_count": null,
   "metadata": {},
   "outputs": [],
   "source": [
    "from ibm_dataset import IBMDebater\n",
    "import matplotlib.pyplot as plt\n",
    "import seaborn as sns\n",
    "import pandas as pd\n",
    "import numpy as np\n",
    "import librosa\n",
    "import os"
   ]
  },
  {
   "cell_type": "code",
   "execution_count": null,
   "metadata": {},
   "outputs": [],
   "source": [
    "data_path = 'data/ibm_debater/full'\n",
    "data_train = IBMDebater(data_path, 'train', load_text=True, load_audio=False, text_transform=None, chunk_length=None)\n",
    "data_val = IBMDebater(data_path, 'validation', load_text=True, load_audio=False, text_transform=None, chunk_length=None)\n",
    "data_test = IBMDebater(data_path, 'test', load_text=True, load_audio=False, text_transform=None, chunk_length=None)"
   ]
  },
  {
   "cell_type": "code",
   "execution_count": null,
   "metadata": {},
   "outputs": [],
   "source": [
    "# Counting the samples in each data split\n",
    "sns.set(color_codes=True)\n",
    "train_metadata = data_train.annotations\n",
    "test_metadata = data_test.annotations\n",
    "val_metadata = data_val.annotations\n",
    "\n",
    "concatenated = pd.concat([train_metadata.assign(dataset='train'),\n",
    "                          val_metadata.assign(dataset='val'),\n",
    "                          test_metadata.assign(dataset='test')])\n",
    "\n",
    "sns.countplot(x='dataset', data=concatenated)\n",
    "plt.show()"
   ]
  },
  {
   "cell_type": "code",
   "execution_count": null,
   "metadata": {},
   "outputs": [],
   "source": [
    "# Counting motion polarity\n",
    "_, axes = plt.subplots(1, 3, figsize=(15, 5))\n",
    "for split, ax in zip(np.unique(concatenated['dataset'].values), axes.tolist()):\n",
    "    ax.set_title(split + ' split')\n",
    "    sns.countplot(x='speech-to-motion-polarity', data=concatenated[concatenated['dataset'] == split], ax=ax)\n",
    "plt.show()"
   ]
  },
  {
   "cell_type": "code",
   "execution_count": null,
   "metadata": {},
   "outputs": [],
   "source": [
    "# length text \n",
    "lentext = {'split': [], 'text_length': []}\n",
    "for split, split_name in zip([data_train, data_val], ['train', 'val']):\n",
    "    for data in split:\n",
    "        text = data[0]\n",
    "        text = text.split(' ')\n",
    "        lentext['text_length'].append(len(text))\n",
    "        lentext['split'].append(split_name)\n",
    "\n",
    "plt.figure(figsize=(15, 7.5))\n",
    "sns.histplot(data=lentext, kde=True, stat=\"density\", linewidth=0, x='text_length', hue='split')\n",
    "plt.show()"
   ]
  },
  {
   "cell_type": "code",
   "execution_count": null,
   "metadata": {},
   "outputs": [],
   "source": [
    "# Show k most frequent cased words\n",
    "\n",
    "from collections import Counter\n",
    "import re\n",
    "def get_k_most_freq_cased(data, k):\n",
    "    texts = [t[0] for t in data]\n",
    "    texts = ' '.join(texts)\n",
    "    \n",
    "    res = re.findall('([A-Z]\\w+)', texts)\n",
    "\n",
    "    counts = Counter()\n",
    "\n",
    "    for w in res:\n",
    "        counts[w] += 1\n",
    "    items = counts.most_common(k)\n",
    "    keys = [item[0] for item in items]\n",
    "    values = [item[1] for item in items]\n",
    "\n",
    "    return keys, values\n",
    "\n",
    "words, freq = get_k_most_freq_cased(data_train, 50)\n",
    "\n",
    "_, ax = plt.subplots(figsize=(25, 10))\n",
    "sns.barplot(x=words, y=freq, ax=ax)\n",
    "plt.xticks(rotation=45)\n",
    "plt.show()"
   ]
  },
  {
   "cell_type": "code",
   "execution_count": null,
   "metadata": {},
   "outputs": [],
   "source": [
    "# Show the different sample rates of the audio files in the dataset\n",
    "def get_sr_and_durations(data):\n",
    "    sample_rates = []\n",
    "    seconds = []\n",
    "    for audio_file in data['wav-file-name']:\n",
    "        audio_path = os.path.join(data_path, 'wav', audio_file)\n",
    "        sr = librosa.get_samplerate(audio_path)\n",
    "        sc = librosa.get_duration(filename=audio_path)\n",
    "        sample_rates.append(sr)\n",
    "        seconds.append(sc)\n",
    "    return sample_rates, seconds\n",
    "\n",
    "train_metadata = data_train.annotations\n",
    "audio_stats = {\n",
    "    'sample_rates': [],\n",
    "    'durations': [],\n",
    "    'split': []\n",
    "}\n",
    "for split, split_name in zip([train_metadata, val_metadata], ['train', 'val']):\n",
    "    sample_rates, seconds = get_sr_and_durations(split)\n",
    "    audio_stats['sample_rates'] += sample_rates\n",
    "    audio_stats['durations'] += seconds\n",
    "    audio_stats['split'] += [split_name for _ in range(len(sample_rates))]\n",
    "\n",
    "audio_stats = pd.DataFrame(audio_stats)"
   ]
  },
  {
   "cell_type": "code",
   "execution_count": null,
   "metadata": {},
   "outputs": [],
   "source": [
    "# Plot sample rates pie distributions in a pie chart\n",
    "_, axs = plt.subplots(1, 2, figsize=(18, 16))\n",
    "\n",
    "for split, ax in zip(audio_stats['split'].unique(), axs):\n",
    "    sample_rates = audio_stats[audio_stats['split'] == split]['sample_rates'].\\\n",
    "            value_counts(normalize=True)\\\n",
    "            .mul(100).rename('percentage').reset_index()\n",
    "    percentages = sample_rates['percentage']\n",
    "    # Define Seaborn color palette to use\n",
    "    colors = sns.color_palette('pastel')[0:len(sample_rates)]\n",
    "\n",
    "    # Create pie chart\n",
    "    ax.set_title(f'Sample rates in {split} split')\n",
    "    ax.pie(percentages, labels=sample_rates['index'], colors=colors, autopct='%.2f%%')\n",
    "plt.show()"
   ]
  },
  {
   "cell_type": "code",
   "execution_count": null,
   "metadata": {},
   "outputs": [],
   "source": [
    "# Show the distribution of the audio lenghts for our dataset\n",
    "plt.figure(figsize=(15, 7.5))\n",
    "sns.histplot(data=audio_stats, kde=True, stat=\"density\", linewidth=0, x='durations', hue='split')\n",
    "plt.show()"
   ]
  }
 ],
 "metadata": {
  "kernelspec": {
   "display_name": "Python 3.10.4 ('env': venv)",
   "language": "python",
   "name": "python3"
  },
  "language_info": {
   "codemirror_mode": {
    "name": "ipython",
    "version": 3
   },
   "file_extension": ".py",
   "mimetype": "text/x-python",
   "name": "python",
   "nbconvert_exporter": "python",
   "pygments_lexer": "ipython3",
   "version": "3.10.4"
  },
  "orig_nbformat": 4,
  "vscode": {
   "interpreter": {
    "hash": "60f4704d683d1ac82e38abd4d597b7da6c5fc8194e3179d3eefd3aa5146bbf16"
   }
  }
 },
 "nbformat": 4,
 "nbformat_minor": 2
}
