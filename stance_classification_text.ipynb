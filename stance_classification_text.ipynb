{
 "cells": [
  {
   "cell_type": "code",
   "execution_count": 1,
   "metadata": {},
   "outputs": [],
   "source": [
    "%load_ext autoreload\n",
    "%autoreload 2\n",
    "import torchtext\n",
    "from torch.utils.data import DataLoader, random_split\n",
    "import matplotlib.pyplot as plt\n",
    "import transformers\n",
    "from transformers import DistilBertTokenizer\n",
    "from torchinfo import summary\n",
    "from ibm_dataset import IBMDebater\n",
    "import utils\n",
    "from train_text import train_loop\n",
    "from models.text_model import TextModel\n",
    "transformers.logging.set_verbosity_error()"
   ]
  },
  {
   "cell_type": "code",
   "execution_count": 2,
   "metadata": {},
   "outputs": [],
   "source": [
    "text_transform = torchtext.transforms.ToTensor()\n",
    "tokenizer = DistilBertTokenizer.from_pretrained('distilbert-base-uncased')\n",
    "\n",
    "data_path = 'data/ibm_debater/full'\n",
    "\n",
    "data = IBMDebater(data_path, 'train', tokenizer=tokenizer, text_transform=text_transform, load_audio=False)\n",
    "train_len = int(len(data)*0.7)\n",
    "data_train, data_val = random_split(data, [train_len, len(data) - train_len])"
   ]
  },
  {
   "cell_type": "code",
   "execution_count": 3,
   "metadata": {},
   "outputs": [],
   "source": [
    "batch_size = 16\n",
    "loader_train = DataLoader(data_train,\n",
    "                    batch_size=batch_size,\n",
    "                    shuffle=True,\n",
    "                    collate_fn=utils.batch_generator_text,\n",
    "                    drop_last=True)\n",
    "loader_val = DataLoader(data_val,\n",
    "                    batch_size=batch_size,\n",
    "                    shuffle=False,\n",
    "                    collate_fn=utils.batch_generator_text,\n",
    "                    drop_last=True)"
   ]
  },
  {
   "cell_type": "code",
   "execution_count": 4,
   "metadata": {},
   "outputs": [
    {
     "data": {
      "text/plain": [
       "================================================================================\n",
       "Layer (type:depth-idx)                                  Param #\n",
       "================================================================================\n",
       "TextModel                                               --\n",
       "├─DistilBertModel: 1-1                                  --\n",
       "│    └─Embeddings: 2-1                                  --\n",
       "│    │    └─Embedding: 3-1                              (23,440,896)\n",
       "│    │    └─Embedding: 3-2                              (393,216)\n",
       "│    │    └─LayerNorm: 3-3                              (1,536)\n",
       "│    │    └─Dropout: 3-4                                --\n",
       "│    └─Transformer: 2-2                                 --\n",
       "│    │    └─ModuleList: 3-5                             42,527,232\n",
       "├─Dropout: 1-2                                          --\n",
       "├─Linear: 1-3                                           590,592\n",
       "├─Dropout: 1-4                                          --\n",
       "├─ReLU: 1-5                                             --\n",
       "├─Linear: 1-6                                           769\n",
       "================================================================================\n",
       "Total params: 66,954,241\n",
       "Trainable params: 14,767,105\n",
       "Non-trainable params: 52,187,136\n",
       "================================================================================"
      ]
     },
     "execution_count": 4,
     "metadata": {},
     "output_type": "execute_result"
    }
   ],
   "source": [
    "model = TextModel(classify=True)\n",
    "summary(model)"
   ]
  },
  {
   "cell_type": "code",
   "execution_count": 5,
   "metadata": {},
   "outputs": [
    {
     "name": "stderr",
     "output_type": "stream",
     "text": [
      "100%|██████████| 93/93 [00:37<00:00,  2.48it/s]\n"
     ]
    },
    {
     "name": "stdout",
     "output_type": "stream",
     "text": [
      "train_loss: 0.6899694460694508 train_accuracy: 0.532258064516129\tval_loss: 0.6751947402954102 val_accuracy: 0.5546875\n"
     ]
    },
    {
     "name": "stderr",
     "output_type": "stream",
     "text": [
      "100%|██████████| 93/93 [00:37<00:00,  2.50it/s]\n"
     ]
    },
    {
     "name": "stdout",
     "output_type": "stream",
     "text": [
      "train_loss: 0.5008030835018363 train_accuracy: 0.7446236559139785\tval_loss: 0.2543546285480261 val_accuracy: 0.909375\n"
     ]
    },
    {
     "name": "stderr",
     "output_type": "stream",
     "text": [
      "100%|██████████| 93/93 [00:37<00:00,  2.51it/s]\n"
     ]
    },
    {
     "name": "stdout",
     "output_type": "stream",
     "text": [
      "train_loss: 0.15934282338987754 train_accuracy: 0.9495967741935484\tval_loss: 0.1251414939528331 val_accuracy: 0.9578125\n"
     ]
    },
    {
     "name": "stderr",
     "output_type": "stream",
     "text": [
      "100%|██████████| 93/93 [00:37<00:00,  2.48it/s]\n"
     ]
    },
    {
     "name": "stdout",
     "output_type": "stream",
     "text": [
      "train_loss: 0.10878299258809576 train_accuracy: 0.9657258064516129\tval_loss: 0.13296029062476009 val_accuracy: 0.9515625\n"
     ]
    },
    {
     "name": "stderr",
     "output_type": "stream",
     "text": [
      "100%|██████████| 93/93 [00:37<00:00,  2.45it/s]\n"
     ]
    },
    {
     "name": "stdout",
     "output_type": "stream",
     "text": [
      "train_loss: 0.07643299726569043 train_accuracy: 0.9758064516129032\tval_loss: 0.12625482071889566 val_accuracy: 0.959375\n"
     ]
    },
    {
     "name": "stderr",
     "output_type": "stream",
     "text": [
      "100%|██████████| 93/93 [00:37<00:00,  2.47it/s]\n"
     ]
    },
    {
     "name": "stdout",
     "output_type": "stream",
     "text": [
      "train_loss: 0.06248075105450166 train_accuracy: 0.9798387096774194\tval_loss: 0.12567857663379983 val_accuracy: 0.959375\n"
     ]
    },
    {
     "name": "stderr",
     "output_type": "stream",
     "text": [
      "100%|██████████| 93/93 [00:37<00:00,  2.48it/s]\n"
     ]
    },
    {
     "name": "stdout",
     "output_type": "stream",
     "text": [
      "train_loss: 0.054576165002760704 train_accuracy: 0.9811827956989247\tval_loss: 0.1273996320553124 val_accuracy: 0.9546875\n"
     ]
    },
    {
     "name": "stderr",
     "output_type": "stream",
     "text": [
      "100%|██████████| 93/93 [00:37<00:00,  2.45it/s]\n"
     ]
    },
    {
     "name": "stdout",
     "output_type": "stream",
     "text": [
      "train_loss: 0.04944681028725319 train_accuracy: 0.9852150537634409\tval_loss: 0.12579675366869197 val_accuracy: 0.9625\n"
     ]
    },
    {
     "name": "stderr",
     "output_type": "stream",
     "text": [
      "100%|██████████| 93/93 [00:37<00:00,  2.45it/s]\n"
     ]
    },
    {
     "name": "stdout",
     "output_type": "stream",
     "text": [
      "train_loss: 0.04830237257204229 train_accuracy: 0.9838709677419355\tval_loss: 0.121961780579295 val_accuracy: 0.9609375\n"
     ]
    },
    {
     "name": "stderr",
     "output_type": "stream",
     "text": [
      "100%|██████████| 93/93 [00:37<00:00,  2.48it/s]\n"
     ]
    },
    {
     "name": "stdout",
     "output_type": "stream",
     "text": [
      "train_loss: 0.04241827991040003 train_accuracy: 0.9865591397849462\tval_loss: 0.13045318468939512 val_accuracy: 0.9578125\n"
     ]
    },
    {
     "name": "stderr",
     "output_type": "stream",
     "text": [
      "100%|██████████| 93/93 [00:37<00:00,  2.50it/s]\n"
     ]
    },
    {
     "name": "stdout",
     "output_type": "stream",
     "text": [
      "train_loss: 0.042329616419049684 train_accuracy: 0.9879032258064516\tval_loss: 0.12866212776862085 val_accuracy: 0.9578125\n"
     ]
    },
    {
     "name": "stderr",
     "output_type": "stream",
     "text": [
      "100%|██████████| 93/93 [00:37<00:00,  2.49it/s]\n"
     ]
    },
    {
     "name": "stdout",
     "output_type": "stream",
     "text": [
      "train_loss: 0.04456302620250211 train_accuracy: 0.9879032258064516\tval_loss: 0.1275550359627232 val_accuracy: 0.959375\n"
     ]
    }
   ],
   "source": [
    "train_loop(model, loader_train, loader_val, 20, 'cuda')"
   ]
  },
  {
   "cell_type": "code",
   "execution_count": 6,
   "metadata": {},
   "outputs": [
    {
     "name": "stdout",
     "output_type": "stream",
     "text": [
      "val_loss: 0.12579675366869197 val_accuracy: 0.9625\n",
      "{'val_loss': 0.12579675366869197, 'val_accuracy': 0.9625}\n"
     ]
    }
   ],
   "source": [
    "from train_text import validate\n",
    "from torch import nn\n",
    "validate(model, nn.BCEWithLogitsLoss(), loader_val, 'cuda')"
   ]
  }
 ],
 "metadata": {
  "interpreter": {
   "hash": "31f2aee4e71d21fbe5cf8b01ff0e069b9275f58929596ceb00d14d90e3e16cd6"
  },
  "kernelspec": {
   "display_name": "Python 3.8.10 64-bit",
   "language": "python",
   "name": "python3"
  },
  "language_info": {
   "codemirror_mode": {
    "name": "ipython",
    "version": 3
   },
   "file_extension": ".py",
   "mimetype": "text/x-python",
   "name": "python",
   "nbconvert_exporter": "python",
   "pygments_lexer": "ipython3",
   "version": "3.8.10"
  },
  "orig_nbformat": 4
 },
 "nbformat": 4,
 "nbformat_minor": 2
}
