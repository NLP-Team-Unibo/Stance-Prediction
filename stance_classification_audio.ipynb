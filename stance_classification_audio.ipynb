{
 "cells": [
  {
   "cell_type": "code",
   "execution_count": 1,
   "metadata": {},
   "outputs": [],
   "source": [
    "%load_ext autoreload\n",
    "%autoreload 2\n",
    "import utils\n",
    "import torch\n",
    "import numpy as np\n",
    "from torch.utils.data import DataLoader, random_split\n",
    "import transformers\n",
    "from torchinfo import summary\n",
    "from ibm_dataset import IBMDebater\n",
    "from models.audio_model import AudioModel\n",
    "from train_audio import train_loop\n",
    "transformers.logging.set_verbosity_error()"
   ]
  },
  {
   "cell_type": "code",
   "execution_count": 2,
   "metadata": {},
   "outputs": [
    {
     "name": "stdout",
     "output_type": "stream",
     "text": [
      "298 129\n"
     ]
    }
   ],
   "source": [
    "data_path = 'data/ibm_debater/full'\n",
    "\n",
    "data = IBMDebater(data_path, 'train', max_audio_len=10, load_text=False)\n",
    "train_len = int(len(data)*0.7)\n",
    "data_train, data_val = random_split(data, [train_len, len(data) - train_len])\n",
    "\n",
    "small_data_dim = 0.2\n",
    "rnd_idx = np.random.choice(np.array([i for i in range(1, len(data))]), size=int(len(data)*small_data_dim))\n",
    "small_data = torch.utils.data.Subset(data, rnd_idx)\n",
    "train_len = int(len(small_data)*0.7) \n",
    "small_data_train, small_data_val = random_split(small_data, [train_len, len(small_data) - train_len])\n",
    "print(len(small_data_train), len(small_data_val))"
   ]
  },
  {
   "cell_type": "code",
   "execution_count": 3,
   "metadata": {},
   "outputs": [],
   "source": [
    "batch_size = 16\n",
    "loader_train = DataLoader(small_data_train,\n",
    "                    batch_size=batch_size,\n",
    "                    shuffle=True,\n",
    "                    collate_fn=utils.batch_generator_wav2vec,\n",
    "                    drop_last=True)\n",
    "loader_val = DataLoader(small_data_val,\n",
    "                    batch_size=batch_size,\n",
    "                    shuffle=False,\n",
    "                    collate_fn=utils.batch_generator_wav2vec,\n",
    "                    drop_last=True)"
   ]
  },
  {
   "cell_type": "code",
   "execution_count": 4,
   "metadata": {},
   "outputs": [
    {
     "data": {
      "text/plain": [
       "=================================================================\n",
       "Layer (type:depth-idx)                   Param #\n",
       "=================================================================\n",
       "AudioModel                               --\n",
       "├─FeatureExtractor: 1-1                  --\n",
       "│    └─ModuleList: 2-1                   --\n",
       "│    │    └─ConvLayerBlock: 3-1          (6,144)\n",
       "│    │    └─ConvLayerBlock: 3-2          (786,432)\n",
       "│    │    └─ConvLayerBlock: 3-3          (786,432)\n",
       "│    │    └─ConvLayerBlock: 3-4          (786,432)\n",
       "│    │    └─ConvLayerBlock: 3-5          (786,432)\n",
       "│    │    └─ConvLayerBlock: 3-6          524,288\n",
       "│    │    └─ConvLayerBlock: 3-7          524,288\n",
       "├─Linear: 1-2                            16,000\n",
       "├─Linear: 1-3                            513\n",
       "├─ReLU: 1-4                              --\n",
       "=================================================================\n",
       "Total params: 4,216,961\n",
       "Trainable params: 1,065,089\n",
       "Non-trainable params: 3,151,872\n",
       "================================================================="
      ]
     },
     "execution_count": 4,
     "metadata": {},
     "output_type": "execute_result"
    }
   ],
   "source": [
    "model = AudioModel(chunk_size=10, dim=32, device='cuda')\n",
    "model.cuda()\n",
    "summary(model)"
   ]
  },
  {
   "cell_type": "code",
   "execution_count": 6,
   "metadata": {},
   "outputs": [
    {
     "ename": "KeyboardInterrupt",
     "evalue": "",
     "output_type": "error",
     "traceback": [
      "\u001b[0;31m---------------------------------------------------------------------------\u001b[0m",
      "\u001b[0;31mKeyboardInterrupt\u001b[0m                         Traceback (most recent call last)",
      "\u001b[1;32m/home/prahtz/GoogleDrive/GitHub/NLP_Project/stance_classification_audio.ipynb Cell 5'\u001b[0m in \u001b[0;36m<cell line: 1>\u001b[0;34m()\u001b[0m\n\u001b[0;32m----> <a href='vscode-notebook-cell:/home/prahtz/GoogleDrive/GitHub/NLP_Project/stance_classification_audio.ipynb#ch0000010?line=0'>1</a>\u001b[0m train_loop(model, loader_train\u001b[39m=\u001b[39;49mloader_train, loader_val\u001b[39m=\u001b[39;49mloader_val, epochs\u001b[39m=\u001b[39;49m\u001b[39m4\u001b[39;49m, device\u001b[39m=\u001b[39;49m\u001b[39m'\u001b[39;49m\u001b[39mcuda\u001b[39;49m\u001b[39m'\u001b[39;49m)\n",
      "File \u001b[0;32m~/GoogleDrive/GitHub/NLP_Project/train_audio.py:13\u001b[0m, in \u001b[0;36mtrain_loop\u001b[0;34m(model, loader_train, loader_val, epochs, device)\u001b[0m\n\u001b[1;32m     <a href='file:///home/prahtz/GoogleDrive/GitHub/NLP_Project/train_audio.py?line=9'>10</a>\u001b[0m criterion \u001b[39m=\u001b[39m nn\u001b[39m.\u001b[39mBCEWithLogitsLoss()\n\u001b[1;32m     <a href='file:///home/prahtz/GoogleDrive/GitHub/NLP_Project/train_audio.py?line=11'>12</a>\u001b[0m \u001b[39mfor\u001b[39;00m i \u001b[39min\u001b[39;00m \u001b[39mrange\u001b[39m(epochs):\n\u001b[0;32m---> <a href='file:///home/prahtz/GoogleDrive/GitHub/NLP_Project/train_audio.py?line=12'>13</a>\u001b[0m     train(model, optimizer, criterion, loader_train, device)\n\u001b[1;32m     <a href='file:///home/prahtz/GoogleDrive/GitHub/NLP_Project/train_audio.py?line=13'>14</a>\u001b[0m     validate(model, criterion, loader_val, device)\n",
      "File \u001b[0;32m~/GoogleDrive/GitHub/NLP_Project/train_audio.py:22\u001b[0m, in \u001b[0;36mtrain\u001b[0;34m(model, optimizer, criterion, data_loader, device)\u001b[0m\n\u001b[1;32m     <a href='file:///home/prahtz/GoogleDrive/GitHub/NLP_Project/train_audio.py?line=19'>20</a>\u001b[0m total_acc \u001b[39m=\u001b[39m \u001b[39m0.0\u001b[39m\n\u001b[1;32m     <a href='file:///home/prahtz/GoogleDrive/GitHub/NLP_Project/train_audio.py?line=20'>21</a>\u001b[0m total \u001b[39m=\u001b[39m \u001b[39m0\u001b[39m\n\u001b[0;32m---> <a href='file:///home/prahtz/GoogleDrive/GitHub/NLP_Project/train_audio.py?line=21'>22</a>\u001b[0m \u001b[39mfor\u001b[39;00m data \u001b[39min\u001b[39;00m data_loader:\n\u001b[1;32m     <a href='file:///home/prahtz/GoogleDrive/GitHub/NLP_Project/train_audio.py?line=22'>23</a>\u001b[0m     waves \u001b[39m=\u001b[39m data[\u001b[39m0\u001b[39m]\n\u001b[1;32m     <a href='file:///home/prahtz/GoogleDrive/GitHub/NLP_Project/train_audio.py?line=24'>25</a>\u001b[0m     labels \u001b[39m=\u001b[39m data[\u001b[39m1\u001b[39m]\u001b[39m.\u001b[39mto(device)\n",
      "File \u001b[0;32m~/GoogleDrive/GitHub/NLP_Project/env/lib/python3.8/site-packages/torch/utils/data/dataloader.py:530\u001b[0m, in \u001b[0;36m_BaseDataLoaderIter.__next__\u001b[0;34m(self)\u001b[0m\n\u001b[1;32m    <a href='file:///home/prahtz/GoogleDrive/GitHub/NLP_Project/env/lib/python3.8/site-packages/torch/utils/data/dataloader.py?line=527'>528</a>\u001b[0m \u001b[39mif\u001b[39;00m \u001b[39mself\u001b[39m\u001b[39m.\u001b[39m_sampler_iter \u001b[39mis\u001b[39;00m \u001b[39mNone\u001b[39;00m:\n\u001b[1;32m    <a href='file:///home/prahtz/GoogleDrive/GitHub/NLP_Project/env/lib/python3.8/site-packages/torch/utils/data/dataloader.py?line=528'>529</a>\u001b[0m     \u001b[39mself\u001b[39m\u001b[39m.\u001b[39m_reset()\n\u001b[0;32m--> <a href='file:///home/prahtz/GoogleDrive/GitHub/NLP_Project/env/lib/python3.8/site-packages/torch/utils/data/dataloader.py?line=529'>530</a>\u001b[0m data \u001b[39m=\u001b[39m \u001b[39mself\u001b[39;49m\u001b[39m.\u001b[39;49m_next_data()\n\u001b[1;32m    <a href='file:///home/prahtz/GoogleDrive/GitHub/NLP_Project/env/lib/python3.8/site-packages/torch/utils/data/dataloader.py?line=530'>531</a>\u001b[0m \u001b[39mself\u001b[39m\u001b[39m.\u001b[39m_num_yielded \u001b[39m+\u001b[39m\u001b[39m=\u001b[39m \u001b[39m1\u001b[39m\n\u001b[1;32m    <a href='file:///home/prahtz/GoogleDrive/GitHub/NLP_Project/env/lib/python3.8/site-packages/torch/utils/data/dataloader.py?line=531'>532</a>\u001b[0m \u001b[39mif\u001b[39;00m \u001b[39mself\u001b[39m\u001b[39m.\u001b[39m_dataset_kind \u001b[39m==\u001b[39m _DatasetKind\u001b[39m.\u001b[39mIterable \u001b[39mand\u001b[39;00m \\\n\u001b[1;32m    <a href='file:///home/prahtz/GoogleDrive/GitHub/NLP_Project/env/lib/python3.8/site-packages/torch/utils/data/dataloader.py?line=532'>533</a>\u001b[0m         \u001b[39mself\u001b[39m\u001b[39m.\u001b[39m_IterableDataset_len_called \u001b[39mis\u001b[39;00m \u001b[39mnot\u001b[39;00m \u001b[39mNone\u001b[39;00m \u001b[39mand\u001b[39;00m \\\n\u001b[1;32m    <a href='file:///home/prahtz/GoogleDrive/GitHub/NLP_Project/env/lib/python3.8/site-packages/torch/utils/data/dataloader.py?line=533'>534</a>\u001b[0m         \u001b[39mself\u001b[39m\u001b[39m.\u001b[39m_num_yielded \u001b[39m>\u001b[39m \u001b[39mself\u001b[39m\u001b[39m.\u001b[39m_IterableDataset_len_called:\n",
      "File \u001b[0;32m~/GoogleDrive/GitHub/NLP_Project/env/lib/python3.8/site-packages/torch/utils/data/dataloader.py:570\u001b[0m, in \u001b[0;36m_SingleProcessDataLoaderIter._next_data\u001b[0;34m(self)\u001b[0m\n\u001b[1;32m    <a href='file:///home/prahtz/GoogleDrive/GitHub/NLP_Project/env/lib/python3.8/site-packages/torch/utils/data/dataloader.py?line=567'>568</a>\u001b[0m \u001b[39mdef\u001b[39;00m \u001b[39m_next_data\u001b[39m(\u001b[39mself\u001b[39m):\n\u001b[1;32m    <a href='file:///home/prahtz/GoogleDrive/GitHub/NLP_Project/env/lib/python3.8/site-packages/torch/utils/data/dataloader.py?line=568'>569</a>\u001b[0m     index \u001b[39m=\u001b[39m \u001b[39mself\u001b[39m\u001b[39m.\u001b[39m_next_index()  \u001b[39m# may raise StopIteration\u001b[39;00m\n\u001b[0;32m--> <a href='file:///home/prahtz/GoogleDrive/GitHub/NLP_Project/env/lib/python3.8/site-packages/torch/utils/data/dataloader.py?line=569'>570</a>\u001b[0m     data \u001b[39m=\u001b[39m \u001b[39mself\u001b[39;49m\u001b[39m.\u001b[39;49m_dataset_fetcher\u001b[39m.\u001b[39;49mfetch(index)  \u001b[39m# may raise StopIteration\u001b[39;00m\n\u001b[1;32m    <a href='file:///home/prahtz/GoogleDrive/GitHub/NLP_Project/env/lib/python3.8/site-packages/torch/utils/data/dataloader.py?line=570'>571</a>\u001b[0m     \u001b[39mif\u001b[39;00m \u001b[39mself\u001b[39m\u001b[39m.\u001b[39m_pin_memory:\n\u001b[1;32m    <a href='file:///home/prahtz/GoogleDrive/GitHub/NLP_Project/env/lib/python3.8/site-packages/torch/utils/data/dataloader.py?line=571'>572</a>\u001b[0m         data \u001b[39m=\u001b[39m _utils\u001b[39m.\u001b[39mpin_memory\u001b[39m.\u001b[39mpin_memory(data)\n",
      "File \u001b[0;32m~/GoogleDrive/GitHub/NLP_Project/env/lib/python3.8/site-packages/torch/utils/data/_utils/fetch.py:49\u001b[0m, in \u001b[0;36m_MapDatasetFetcher.fetch\u001b[0;34m(self, possibly_batched_index)\u001b[0m\n\u001b[1;32m     <a href='file:///home/prahtz/GoogleDrive/GitHub/NLP_Project/env/lib/python3.8/site-packages/torch/utils/data/_utils/fetch.py?line=46'>47</a>\u001b[0m \u001b[39mdef\u001b[39;00m \u001b[39mfetch\u001b[39m(\u001b[39mself\u001b[39m, possibly_batched_index):\n\u001b[1;32m     <a href='file:///home/prahtz/GoogleDrive/GitHub/NLP_Project/env/lib/python3.8/site-packages/torch/utils/data/_utils/fetch.py?line=47'>48</a>\u001b[0m     \u001b[39mif\u001b[39;00m \u001b[39mself\u001b[39m\u001b[39m.\u001b[39mauto_collation:\n\u001b[0;32m---> <a href='file:///home/prahtz/GoogleDrive/GitHub/NLP_Project/env/lib/python3.8/site-packages/torch/utils/data/_utils/fetch.py?line=48'>49</a>\u001b[0m         data \u001b[39m=\u001b[39m [\u001b[39mself\u001b[39m\u001b[39m.\u001b[39mdataset[idx] \u001b[39mfor\u001b[39;00m idx \u001b[39min\u001b[39;00m possibly_batched_index]\n\u001b[1;32m     <a href='file:///home/prahtz/GoogleDrive/GitHub/NLP_Project/env/lib/python3.8/site-packages/torch/utils/data/_utils/fetch.py?line=49'>50</a>\u001b[0m     \u001b[39melse\u001b[39;00m:\n\u001b[1;32m     <a href='file:///home/prahtz/GoogleDrive/GitHub/NLP_Project/env/lib/python3.8/site-packages/torch/utils/data/_utils/fetch.py?line=50'>51</a>\u001b[0m         data \u001b[39m=\u001b[39m \u001b[39mself\u001b[39m\u001b[39m.\u001b[39mdataset[possibly_batched_index]\n",
      "File \u001b[0;32m~/GoogleDrive/GitHub/NLP_Project/env/lib/python3.8/site-packages/torch/utils/data/_utils/fetch.py:49\u001b[0m, in \u001b[0;36m<listcomp>\u001b[0;34m(.0)\u001b[0m\n\u001b[1;32m     <a href='file:///home/prahtz/GoogleDrive/GitHub/NLP_Project/env/lib/python3.8/site-packages/torch/utils/data/_utils/fetch.py?line=46'>47</a>\u001b[0m \u001b[39mdef\u001b[39;00m \u001b[39mfetch\u001b[39m(\u001b[39mself\u001b[39m, possibly_batched_index):\n\u001b[1;32m     <a href='file:///home/prahtz/GoogleDrive/GitHub/NLP_Project/env/lib/python3.8/site-packages/torch/utils/data/_utils/fetch.py?line=47'>48</a>\u001b[0m     \u001b[39mif\u001b[39;00m \u001b[39mself\u001b[39m\u001b[39m.\u001b[39mauto_collation:\n\u001b[0;32m---> <a href='file:///home/prahtz/GoogleDrive/GitHub/NLP_Project/env/lib/python3.8/site-packages/torch/utils/data/_utils/fetch.py?line=48'>49</a>\u001b[0m         data \u001b[39m=\u001b[39m [\u001b[39mself\u001b[39;49m\u001b[39m.\u001b[39;49mdataset[idx] \u001b[39mfor\u001b[39;00m idx \u001b[39min\u001b[39;00m possibly_batched_index]\n\u001b[1;32m     <a href='file:///home/prahtz/GoogleDrive/GitHub/NLP_Project/env/lib/python3.8/site-packages/torch/utils/data/_utils/fetch.py?line=49'>50</a>\u001b[0m     \u001b[39melse\u001b[39;00m:\n\u001b[1;32m     <a href='file:///home/prahtz/GoogleDrive/GitHub/NLP_Project/env/lib/python3.8/site-packages/torch/utils/data/_utils/fetch.py?line=50'>51</a>\u001b[0m         data \u001b[39m=\u001b[39m \u001b[39mself\u001b[39m\u001b[39m.\u001b[39mdataset[possibly_batched_index]\n",
      "File \u001b[0;32m~/GoogleDrive/GitHub/NLP_Project/env/lib/python3.8/site-packages/torch/utils/data/dataset.py:471\u001b[0m, in \u001b[0;36mSubset.__getitem__\u001b[0;34m(self, idx)\u001b[0m\n\u001b[1;32m    <a href='file:///home/prahtz/GoogleDrive/GitHub/NLP_Project/env/lib/python3.8/site-packages/torch/utils/data/dataset.py?line=468'>469</a>\u001b[0m \u001b[39mif\u001b[39;00m \u001b[39misinstance\u001b[39m(idx, \u001b[39mlist\u001b[39m):\n\u001b[1;32m    <a href='file:///home/prahtz/GoogleDrive/GitHub/NLP_Project/env/lib/python3.8/site-packages/torch/utils/data/dataset.py?line=469'>470</a>\u001b[0m     \u001b[39mreturn\u001b[39;00m \u001b[39mself\u001b[39m\u001b[39m.\u001b[39mdataset[[\u001b[39mself\u001b[39m\u001b[39m.\u001b[39mindices[i] \u001b[39mfor\u001b[39;00m i \u001b[39min\u001b[39;00m idx]]\n\u001b[0;32m--> <a href='file:///home/prahtz/GoogleDrive/GitHub/NLP_Project/env/lib/python3.8/site-packages/torch/utils/data/dataset.py?line=470'>471</a>\u001b[0m \u001b[39mreturn\u001b[39;00m \u001b[39mself\u001b[39;49m\u001b[39m.\u001b[39;49mdataset[\u001b[39mself\u001b[39;49m\u001b[39m.\u001b[39;49mindices[idx]]\n",
      "File \u001b[0;32m~/GoogleDrive/GitHub/NLP_Project/env/lib/python3.8/site-packages/torch/utils/data/dataset.py:471\u001b[0m, in \u001b[0;36mSubset.__getitem__\u001b[0;34m(self, idx)\u001b[0m\n\u001b[1;32m    <a href='file:///home/prahtz/GoogleDrive/GitHub/NLP_Project/env/lib/python3.8/site-packages/torch/utils/data/dataset.py?line=468'>469</a>\u001b[0m \u001b[39mif\u001b[39;00m \u001b[39misinstance\u001b[39m(idx, \u001b[39mlist\u001b[39m):\n\u001b[1;32m    <a href='file:///home/prahtz/GoogleDrive/GitHub/NLP_Project/env/lib/python3.8/site-packages/torch/utils/data/dataset.py?line=469'>470</a>\u001b[0m     \u001b[39mreturn\u001b[39;00m \u001b[39mself\u001b[39m\u001b[39m.\u001b[39mdataset[[\u001b[39mself\u001b[39m\u001b[39m.\u001b[39mindices[i] \u001b[39mfor\u001b[39;00m i \u001b[39min\u001b[39;00m idx]]\n\u001b[0;32m--> <a href='file:///home/prahtz/GoogleDrive/GitHub/NLP_Project/env/lib/python3.8/site-packages/torch/utils/data/dataset.py?line=470'>471</a>\u001b[0m \u001b[39mreturn\u001b[39;00m \u001b[39mself\u001b[39;49m\u001b[39m.\u001b[39;49mdataset[\u001b[39mself\u001b[39;49m\u001b[39m.\u001b[39;49mindices[idx]]\n",
      "File \u001b[0;32m~/GoogleDrive/GitHub/NLP_Project/ibm_dataset.py:51\u001b[0m, in \u001b[0;36mIBMDebater.__getitem__\u001b[0;34m(self, idx)\u001b[0m\n\u001b[1;32m     <a href='file:///home/prahtz/GoogleDrive/GitHub/NLP_Project/ibm_dataset.py?line=47'>48</a>\u001b[0m     output\u001b[39m.\u001b[39mappend(text)\n\u001b[1;32m     <a href='file:///home/prahtz/GoogleDrive/GitHub/NLP_Project/ibm_dataset.py?line=49'>50</a>\u001b[0m \u001b[39mif\u001b[39;00m \u001b[39mself\u001b[39m\u001b[39m.\u001b[39mload_audio:\n\u001b[0;32m---> <a href='file:///home/prahtz/GoogleDrive/GitHub/NLP_Project/ibm_dataset.py?line=50'>51</a>\u001b[0m     wave, sr \u001b[39m=\u001b[39m torchaudio\u001b[39m.\u001b[39;49mload(audio_path)\n\u001b[1;32m     <a href='file:///home/prahtz/GoogleDrive/GitHub/NLP_Project/ibm_dataset.py?line=51'>52</a>\u001b[0m     wave \u001b[39m=\u001b[39m torchaudio\u001b[39m.\u001b[39mfunctional\u001b[39m.\u001b[39mresample(wave, sr, \u001b[39m16000\u001b[39m)\n\u001b[1;32m     <a href='file:///home/prahtz/GoogleDrive/GitHub/NLP_Project/ibm_dataset.py?line=52'>53</a>\u001b[0m     w_l \u001b[39m=\u001b[39m wave\u001b[39m.\u001b[39msize(\u001b[39m1\u001b[39m)\n",
      "File \u001b[0;32m~/GoogleDrive/GitHub/NLP_Project/env/lib/python3.8/site-packages/torchaudio/backend/sox_io_backend.py:153\u001b[0m, in \u001b[0;36mload\u001b[0;34m(filepath, frame_offset, num_frames, normalize, channels_first, format)\u001b[0m\n\u001b[1;32m    <a href='file:///home/prahtz/GoogleDrive/GitHub/NLP_Project/env/lib/python3.8/site-packages/torchaudio/backend/sox_io_backend.py?line=148'>149</a>\u001b[0m         \u001b[39mreturn\u001b[39;00m torchaudio\u001b[39m.\u001b[39m_torchaudio\u001b[39m.\u001b[39mload_audio_fileobj(\n\u001b[1;32m    <a href='file:///home/prahtz/GoogleDrive/GitHub/NLP_Project/env/lib/python3.8/site-packages/torchaudio/backend/sox_io_backend.py?line=149'>150</a>\u001b[0m             filepath, frame_offset, num_frames, normalize, channels_first, \u001b[39mformat\u001b[39m\n\u001b[1;32m    <a href='file:///home/prahtz/GoogleDrive/GitHub/NLP_Project/env/lib/python3.8/site-packages/torchaudio/backend/sox_io_backend.py?line=150'>151</a>\u001b[0m         )\n\u001b[1;32m    <a href='file:///home/prahtz/GoogleDrive/GitHub/NLP_Project/env/lib/python3.8/site-packages/torchaudio/backend/sox_io_backend.py?line=151'>152</a>\u001b[0m     filepath \u001b[39m=\u001b[39m os\u001b[39m.\u001b[39mfspath(filepath)\n\u001b[0;32m--> <a href='file:///home/prahtz/GoogleDrive/GitHub/NLP_Project/env/lib/python3.8/site-packages/torchaudio/backend/sox_io_backend.py?line=152'>153</a>\u001b[0m \u001b[39mreturn\u001b[39;00m torch\u001b[39m.\u001b[39;49mops\u001b[39m.\u001b[39;49mtorchaudio\u001b[39m.\u001b[39;49msox_io_load_audio_file(\n\u001b[1;32m    <a href='file:///home/prahtz/GoogleDrive/GitHub/NLP_Project/env/lib/python3.8/site-packages/torchaudio/backend/sox_io_backend.py?line=153'>154</a>\u001b[0m     filepath, frame_offset, num_frames, normalize, channels_first, \u001b[39mformat\u001b[39;49m\n\u001b[1;32m    <a href='file:///home/prahtz/GoogleDrive/GitHub/NLP_Project/env/lib/python3.8/site-packages/torchaudio/backend/sox_io_backend.py?line=154'>155</a>\u001b[0m )\n",
      "\u001b[0;31mKeyboardInterrupt\u001b[0m: "
     ]
    }
   ],
   "source": [
    "train_loop(model, loader_train=loader_train, loader_val=loader_val, epochs=4, device='cuda')"
   ]
  }
 ],
 "metadata": {
  "interpreter": {
   "hash": "31f2aee4e71d21fbe5cf8b01ff0e069b9275f58929596ceb00d14d90e3e16cd6"
  },
  "kernelspec": {
   "display_name": "Python 3.8.10 64-bit",
   "language": "python",
   "name": "python3"
  },
  "language_info": {
   "codemirror_mode": {
    "name": "ipython",
    "version": 3
   },
   "file_extension": ".py",
   "mimetype": "text/x-python",
   "name": "python",
   "nbconvert_exporter": "python",
   "pygments_lexer": "ipython3",
   "version": "3.8.10"
  },
  "orig_nbformat": 4
 },
 "nbformat": 4,
 "nbformat_minor": 2
}
